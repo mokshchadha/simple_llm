{
 "cells": [
  {
   "cell_type": "code",
   "execution_count": 2,
   "id": "905a0133-57de-47b4-a716-90ceeeabfe88",
   "metadata": {},
   "outputs": [
    {
     "name": "stdout",
     "output_type": "stream",
     "text": [
      "cuda\n"
     ]
    }
   ],
   "source": [
    "import torch\n",
    "import numpy as np\n",
    "import time\n",
    "device = 'cuda' if torch.cuda.is_available() else 'cpu'\n",
    "print(device)"
   ]
  },
  {
   "cell_type": "code",
   "execution_count": 7,
   "id": "018968b6-bd65-4693-93ed-60a86940bc35",
   "metadata": {},
   "outputs": [
    {
     "name": "stdout",
     "output_type": "stream",
     "text": [
      "tensor([1, 1, 1, 0, 0, 1, 1, 1, 1, 1])\n"
     ]
    }
   ],
   "source": [
    "#define a probability tensor\n",
    "probabilities = torch.tensor([0.1, 0.9])\n",
    "#10% or 0.1 => 0,90% or 0.9 => each probability \n",
    "#draw 5 samples from the multinomial distribution\n",
    "samples = torch.multinomial(probabilities, num_samples=10, replacement=True)\n",
    "print(samples)"
   ]
  },
  {
   "cell_type": "code",
   "execution_count": 9,
   "id": "e9c502fe-5628-4f4f-b795-f4726a0ebfa0",
   "metadata": {},
   "outputs": [
    {
     "data": {
      "text/plain": [
       "tensor([1, 2, 3, 4, 5])"
      ]
     },
     "execution_count": 9,
     "metadata": {},
     "output_type": "execute_result"
    }
   ],
   "source": [
    "tensor = torch.tensor([1,2,3,4])\n",
    "out = torch.cat((tensor, torch.tensor([5])), dim=0) #concatinate tensors , willl be useful while generating text\n",
    "out"
   ]
  },
  {
   "cell_type": "code",
   "execution_count": 10,
   "id": "d5df88e7-bd5c-46e5-a6df-5c82fc39d92e",
   "metadata": {},
   "outputs": [
    {
     "data": {
      "text/plain": [
       "tensor([[1., 1., 1., 1.],\n",
       "        [0., 1., 1., 1.],\n",
       "        [0., 0., 1., 1.],\n",
       "        [0., 0., 0., 1.]])"
      ]
     },
     "execution_count": 10,
     "metadata": {},
     "output_type": "execute_result"
    }
   ],
   "source": [
    "out = torch.triu(torch.ones(4,4))\n",
    "out"
   ]
  },
  {
   "cell_type": "code",
   "execution_count": 12,
   "id": "a9ccb234-1e5a-4b0b-94c7-6f18bc294eea",
   "metadata": {},
   "outputs": [
    {
     "data": {
      "text/plain": [
       "tensor([[0., -inf, -inf, -inf],\n",
       "        [0., 0., -inf, -inf],\n",
       "        [0., 0., 0., -inf],\n",
       "        [0., 0., 0., 0.]])"
      ]
     },
     "execution_count": 12,
     "metadata": {},
     "output_type": "execute_result"
    }
   ],
   "source": [
    "masked = torch.zeros(4,4).masked_fill(torch.tril(torch.ones(4,4))==0, float('-inf'))\n",
    "masked"
   ]
  },
  {
   "cell_type": "code",
   "execution_count": 13,
   "id": "718d5ff2-cdcc-4c0d-ae19-3f76a9f6453e",
   "metadata": {},
   "outputs": [
    {
     "data": {
      "text/plain": [
       "tensor([[1, 2, 4],\n",
       "        [3, 4, 5]])"
      ]
     },
     "execution_count": 13,
     "metadata": {},
     "output_type": "execute_result"
    }
   ],
   "source": [
    "tensor1 = torch.tensor([1,2,4])\n",
    "tensor2 = torch.tensor([3,4,5])\n",
    "\n",
    "stack = torch.stack([tensor1,tensor2])\n",
    "stack"
   ]
  },
  {
   "cell_type": "code",
   "execution_count": 17,
   "id": "f424d588-1639-42b1-b997-709e8c33ae41",
   "metadata": {},
   "outputs": [
    {
     "name": "stdout",
     "output_type": "stream",
     "text": [
      "tensor([-6.0190, -9.4326,  2.6168], grad_fn=<SqueezeBackward4>)\n"
     ]
    }
   ],
   "source": [
    "import torch.nn as nn #nn stands for neural networks\n",
    "sample = torch.tensor([10.0, 10.0, 10.0]) \n",
    "linear = nn.Linear(3, 3, bias=False) #creatiang a linear nn layer with no bias\n",
    "\n",
    "print(linear(sample))"
   ]
  },
  {
   "cell_type": "code",
   "execution_count": 23,
   "id": "cdec70df-ad66-4ce5-a38e-a2b3dadebeda",
   "metadata": {},
   "outputs": [
    {
     "name": "stdout",
     "output_type": "stream",
     "text": [
      "tensor([0.0900, 0.2447, 0.6652])\n"
     ]
    }
   ],
   "source": [
    "import torch.nn.functional as F\n",
    "\n",
    "tensor1 = torch.tensor([1.0, 2.0, 3.0])\n",
    "softmax_outp = F.softmax(tensor1, dim=0); #applying softmax transformation to a tensor\n",
    "\n",
    "print(softmax_outp)"
   ]
  },
  {
   "cell_type": "code",
   "execution_count": 24,
   "id": "a9330611-42dc-4d21-b6e5-77756ae9af0d",
   "metadata": {},
   "outputs": [
    {
     "name": "stdout",
     "output_type": "stream",
     "text": [
      "torch.Size([4, 100])\n"
     ]
    }
   ],
   "source": [
    "#embedding layer \n",
    "vocab_size = 1000\n",
    "embedding_dim = 100\n",
    "embedding = nn.Embedding(vocab_size, embedding_dim)\n",
    "\n",
    "#create some input indices\n",
    "input_indices = torch.LongTensor([1, 5, 3, 2])\n",
    "embedded_output = embedding(input_indices)\n",
    "\n",
    "#the out put will be a tensor of shape (4, 100) , where 4 is the number of inputs\n",
    "#and 100 is the dimensionality of the embedding vectors\n",
    "\n",
    "print(embedded_output.shape)"
   ]
  },
  {
   "cell_type": "code",
   "execution_count": null,
   "id": "6e13d6ab-4ad6-494a-8fd1-1872396b4030",
   "metadata": {},
   "outputs": [],
   "source": []
  }
 ],
 "metadata": {
  "kernelspec": {
   "display_name": "'moksh-gpt'",
   "language": "python",
   "name": "cuda"
  },
  "language_info": {
   "codemirror_mode": {
    "name": "ipython",
    "version": 3
   },
   "file_extension": ".py",
   "mimetype": "text/x-python",
   "name": "python",
   "nbconvert_exporter": "python",
   "pygments_lexer": "ipython3",
   "version": "3.11.5"
  }
 },
 "nbformat": 4,
 "nbformat_minor": 5
}
