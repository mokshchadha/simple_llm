{
 "cells": [
  {
   "cell_type": "code",
   "execution_count": 12,
   "id": "c9fab991-7ffe-41d2-87ca-1be2e307cdbf",
   "metadata": {},
   "outputs": [
    {
     "name": "stdout",
     "output_type": "stream",
     "text": [
      "cuda\n"
     ]
    }
   ],
   "source": [
    "import torch\n",
    "device = 'cuda' if torch.cuda.is_available() else 'cpu'\n",
    "print(device)\n",
    "block_size = 8 #size of our tensor\n",
    "batch_size = 4"
   ]
  },
  {
   "cell_type": "code",
   "execution_count": 13,
   "id": "49116c9e-1fa4-4ff3-ac7f-a29e6fb1432b",
   "metadata": {},
   "outputs": [
    {
     "name": "stdout",
     "output_type": "stream",
     "text": [
      "['\\n', ' ', '!', '\"', '&', \"'\", '(', ')', ',', '-', '.', '0', '1', '2', '3', '4', '5', '6', '7', '8', '9', ':', ';', '?', 'A', 'B', 'C', 'D', 'E', 'F', 'G', 'H', 'I', 'J', 'K', 'L', 'M', 'N', 'O', 'P', 'Q', 'R', 'S', 'T', 'U', 'V', 'W', 'X', 'Y', 'Z', '[', ']', '_', 'a', 'b', 'c', 'd', 'e', 'f', 'g', 'h', 'i', 'j', 'k', 'l', 'm', 'n', 'o', 'p', 'q', 'r', 's', 't', 'u', 'v', 'w', 'x', 'y', 'z', '\\ufeff']\n"
     ]
    }
   ],
   "source": [
    "with open('wizard_of_oz.txt', 'r', encoding='utf-8') as f:\n",
    "    text = f.read()\n",
    "chars = sorted(set(text))\n",
    "print(chars)"
   ]
  },
  {
   "cell_type": "code",
   "execution_count": 14,
   "id": "e458723e-8c82-47f0-9dd7-54ef9a13cb6e",
   "metadata": {},
   "outputs": [
    {
     "name": "stdout",
     "output_type": "stream",
     "text": [
      "tensor([79,  0, 32, 72,  5, 71,  1, 66, 67,  1, 73, 71, 57, 22,  1, 66, 67,  1,\n",
      "        73, 71, 57,  1, 53, 72,  1, 53, 64, 64, 10,  1, 43, 60, 57,  1, 55, 60,\n",
      "        61, 64, 56, 70, 57, 66,  1, 75, 67, 66,  5, 72,  1, 64, 57, 72,  1, 65,\n",
      "        57,  1, 71, 72, 67, 68,  1, 72, 57, 64, 64, 61, 66, 59,  1, 72, 53, 64,\n",
      "        57, 71,  0, 67, 58,  1, 72, 60, 57,  1, 35, 53, 66, 56,  1, 67, 58,  1,\n",
      "        38, 78, 10,  1, 32,  1, 63, 66, 67, 75])\n"
     ]
    }
   ],
   "source": [
    "#encoding-decoding all our chars in the text i.e. tokenization\n",
    "string_to_int = {ch:i for i,ch in enumerate(chars)}\n",
    "int_to_string = {i:ch for i,ch in enumerate(chars)}\n",
    "\n",
    "encode = lambda s: [string_to_int[c] for c in s]\n",
    "decode = lambda l : ''.join([int_to_string[i]] for i in l)\n",
    "\n",
    "data = torch.tensor(encode(text), dtype = torch.long)\n",
    "\n",
    "print(data[:100])"
   ]
  },
  {
   "cell_type": "code",
   "execution_count": 19,
   "id": "403e3d25-a6b1-4830-bde3-ed973ff0de8c",
   "metadata": {},
   "outputs": [
    {
     "name": "stdout",
     "output_type": "stream",
     "text": [
      "tensor([149970,  84232,  78821,  98514])\n",
      "inputs: \n",
      "tensor([[56, 70, 53, 59, 67, 66, 57, 72],\n",
      "        [70,  1, 57, 64, 57, 74, 53, 72],\n",
      "        [59, 64, 53, 71, 71,  1, 70, 67],\n",
      "        [73, 57,  8,  3,  1, 60, 57,  1]])\n",
      "targets: \n",
      "tensor([[70, 53, 59, 67, 66, 57, 72, 72],\n",
      "        [ 1, 57, 64, 57, 74, 53, 72, 57],\n",
      "        [64, 53, 71, 71,  1, 70, 67, 55],\n",
      "        [57,  8,  3,  1, 60, 57,  1, 70]])\n"
     ]
    }
   ],
   "source": [
    "n = int(0.8 * len(data))\n",
    "\n",
    "train_data = data[:n]\n",
    "val_data = data[n:]\n",
    "\n",
    "def get_batch(split):\n",
    "    data = train_data if split=='train' else val_data\n",
    "    ix = torch.randint(len(data) - block_size, (batch_size,))\n",
    "    print(ix)\n",
    "    x = torch.stack([data[i:i+block_size] for i in ix] )\n",
    "    y = torch.stack([data[i+1:i+block_size+1] for i in ix])\n",
    "    #x, y = x.to(device), y.to(device) -- Found GPU0 GeForce GTX 760 which is of cuda capability 3.0.\n",
    "    return x,y\n",
    "\n",
    "x,y = get_batch('train')\n",
    "print('inputs: ')\n",
    "print(x)\n",
    "\n",
    "print('targets: ')\n",
    "print(y)"
   ]
  },
  {
   "cell_type": "code",
   "execution_count": 16,
   "id": "e789e76a-4b31-4895-b702-80e76ba26b4c",
   "metadata": {},
   "outputs": [
    {
     "name": "stdout",
     "output_type": "stream",
     "text": [
      "when input is  tensor([79]) the targe is tensor(0)\n",
      "when input is  tensor([79,  0]) the targe is tensor(32)\n",
      "when input is  tensor([79,  0, 32]) the targe is tensor(72)\n",
      "when input is  tensor([79,  0, 32, 72]) the targe is tensor(5)\n",
      "when input is  tensor([79,  0, 32, 72,  5]) the targe is tensor(71)\n",
      "when input is  tensor([79,  0, 32, 72,  5, 71]) the targe is tensor(1)\n",
      "when input is  tensor([79,  0, 32, 72,  5, 71,  1]) the targe is tensor(66)\n",
      "when input is  tensor([79,  0, 32, 72,  5, 71,  1, 66]) the targe is tensor(67)\n"
     ]
    }
   ],
   "source": [
    "\n",
    "\n",
    "class BigramLanguageModel(nn.module):\n",
    "    def __init__(self, vocab_size):\n",
    "        super().__init__()\n",
    "        self.token_embedding_table = nn.Embedding(vocab_size, vocab_size)\n",
    "\n",
    "    def forward(self, index, targets):\n",
    "        logits = self.token_embedding_table(index)\n",
    "        return logits\n"
   ]
  },
  {
   "cell_type": "code",
   "execution_count": null,
   "id": "4621ed62-05ea-447d-80cc-aa58d7f59431",
   "metadata": {},
   "outputs": [],
   "source": []
  }
 ],
 "metadata": {
  "kernelspec": {
   "display_name": "'moksh-gpt'",
   "language": "python",
   "name": "cuda"
  },
  "language_info": {
   "codemirror_mode": {
    "name": "ipython",
    "version": 3
   },
   "file_extension": ".py",
   "mimetype": "text/x-python",
   "name": "python",
   "nbconvert_exporter": "python",
   "pygments_lexer": "ipython3",
   "version": "3.11.5"
  }
 },
 "nbformat": 4,
 "nbformat_minor": 5
}
